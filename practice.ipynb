{
 "cells": [
  {
   "cell_type": "code",
   "execution_count": 4,
   "id": "cd51360a",
   "metadata": {},
   "outputs": [
    {
     "name": "stdout",
     "output_type": "stream",
     "text": [
      "The sum of num1 and num2 is 55\n"
     ]
    }
   ],
   "source": [
    "# Python program to add two numbers\n",
    "num1 = 25\n",
    "num2 = 30\n",
    "sum = num1 + num2\n",
    "print('The sum of num1 and num2 is',sum)"
   ]
  },
  {
   "cell_type": "code",
   "execution_count": 6,
   "id": "8456754c",
   "metadata": {},
   "outputs": [
    {
     "name": "stdout",
     "output_type": "stream",
     "text": [
      "first number:25\n",
      "\n",
      "second number:25\n",
      "The sum of two float numbers is: 50.0\n"
     ]
    }
   ],
   "source": [
    "# Adding two number provided by user input \n",
    "num1 = input(\"first number:\")\n",
    "num2 = input(\"\\nsecond number:\")\n",
    "sum = float(num1) + float(num2)\n",
    "print(\"The sum of two float numbers is:\",sum)\n",
    "             "
   ]
  },
  {
   "cell_type": "code",
   "execution_count": 7,
   "id": "5be95149",
   "metadata": {},
   "outputs": [
    {
     "name": "stdout",
     "output_type": "stream",
     "text": [
      "25\n"
     ]
    }
   ],
   "source": [
    "# Maximum of two numbers in Python\n",
    "def maximum(a,b):\n",
    "    if a < b:\n",
    "        return a\n",
    "    else:\n",
    "        return b\n",
    "a = 25\n",
    "b = 55\n",
    "print(maximum(a,b))\n"
   ]
  },
  {
   "cell_type": "code",
   "execution_count": 10,
   "id": "694e487b",
   "metadata": {},
   "outputs": [
    {
     "name": "stdout",
     "output_type": "stream",
     "text": [
      "42\n"
     ]
    }
   ],
   "source": [
    "# using max() function\n",
    "p = 42\n",
    "q = 30\n",
    "maximum = max(p,q)\n",
    "print(maximum)"
   ]
  },
  {
   "cell_type": "code",
   "execution_count": 16,
   "id": "e04d6d64",
   "metadata": {},
   "outputs": [
    {
     "name": "stdout",
     "output_type": "stream",
     "text": [
      "Enter the number:5\n",
      "The factorial of 5 is 120\n"
     ]
    }
   ],
   "source": [
    "# Program to Find the Factorial of a Number\n",
    "num = int(input(\"Enter the number:\"))\n",
    "factorial = 1\n",
    "if num < 0:\n",
    "    print(\"Factor does not exist for negative number\")\n",
    "elif num == 0:\n",
    "    print(\"The factorial of 0 is 1\")\n",
    "else:\n",
    "    for i in range(1,num + 1):\n",
    "        factorial = factorial*i\n",
    "    print(\"The factorial of\",num ,\"is\",factorial)\n"
   ]
  },
  {
   "cell_type": "code",
   "execution_count": 17,
   "id": "d9758f90",
   "metadata": {},
   "outputs": [
    {
     "name": "stdout",
     "output_type": "stream",
     "text": [
      "The principal is 8\n",
      "The time period is 5\n",
      "The interest rate is 6\n",
      "The simple interest is 2.4\n"
     ]
    }
   ],
   "source": [
    "# Program for simple interest using function\n",
    "def simple_interest(p,t,r):\n",
    "    print(\"The principal is\",p)\n",
    "    print(\"The time period is\",t)\n",
    "    print(\"The interest rate is\",r)\n",
    "    \n",
    "    si = (p * t * r)/100\n",
    "    print(\"The simple interest is\",si)\n",
    "    \n",
    "simple_interest(8,5,6)"
   ]
  },
  {
   "cell_type": "code",
   "execution_count": 18,
   "id": "8aed9abd",
   "metadata": {},
   "outputs": [
    {
     "name": "stdout",
     "output_type": "stream",
     "text": [
      "compound interest is 628.8946267774415\n"
     ]
    }
   ],
   "source": [
    "# Program for compound interest using function\n",
    "def Compound_Interest(principal,rate,time):\n",
    "    \n",
    "    # formula for compound interest\n",
    "    Amount = principal * (pow((1 + rate / 100), time))\n",
    "    CI = Amount - principal\n",
    "    print(\"compound interest is\",CI)\n",
    "\n",
    "Compound_Interest(1000,10.25,5)"
   ]
  },
  {
   "cell_type": "code",
   "execution_count": 19,
   "id": "c3bf1219",
   "metadata": {},
   "outputs": [
    {
     "name": "stdout",
     "output_type": "stream",
     "text": [
      "Enter the number: 8\n",
      "The square root of num 8.0 is: 2.8284271247461903\n"
     ]
    }
   ],
   "source": [
    "# Python Program to calculate the square root\n",
    "#num = 6\n",
    "num = float(input(\"Enter the number: \"))\n",
    "num_sqrt = num ** 0.5\n",
    "print(\"The square root of num\",num,\"is:\",num_sqrt )"
   ]
  },
  {
   "cell_type": "code",
   "execution_count": 21,
   "id": "18606b3c",
   "metadata": {},
   "outputs": [
    {
     "name": "stdout",
     "output_type": "stream",
     "text": [
      "x =  5\n",
      "y =  4\n"
     ]
    }
   ],
   "source": [
    "'''\n",
    "# Python program to swap two variables\n",
    "x = input(\"enter the first value:\")\n",
    "y = input(\"enter the second value:\")\n",
    "# create a temporary variable and swap the values\n",
    "temp = x\n",
    "x = y\n",
    "y = temp\n",
    "print(\"The value of x after swapping: {}\".format(x))\n",
    "print(\"The value of y after swapping: {}\".format(y))\n",
    "'''\n",
    "# Withot using temp variable\n",
    "x = 4\n",
    "y = 5\n",
    "\n",
    "x,y = y,x\n",
    "print(\"x = \",x)\n",
    "print(\"y = \",y)"
   ]
  },
  {
   "cell_type": "code",
   "execution_count": 24,
   "id": "3249b413",
   "metadata": {},
   "outputs": [
    {
     "name": "stdout",
     "output_type": "stream",
     "text": [
      "6\n"
     ]
    }
   ],
   "source": [
    "# Program to generate a random number between 0 and 9\n",
    "import random\n",
    "print(random.randint(0,9))"
   ]
  },
  {
   "cell_type": "code",
   "execution_count": 26,
   "id": "db6e20e7",
   "metadata": {},
   "outputs": [
    {
     "name": "stdout",
     "output_type": "stream",
     "text": [
      "Enter the value of kilometers:3.5\n",
      "conversion of kilometer value  3.5 to miles is : 2.1744485\n"
     ]
    }
   ],
   "source": [
    "# Python Program to Convert Kilometers to Miles\n",
    "kilometers = float(input(\"Enter the value of kilometers:\"))\n",
    "# take conversion factor\n",
    "conversion_factor = 0.621271\n",
    "# calculate miles\n",
    "miles = kilometers * conversion_factor\n",
    "print(\"conversion of kilometer value \",kilometers,\"to miles is :\",miles)"
   ]
  },
  {
   "cell_type": "code",
   "execution_count": 28,
   "id": "adc28cc6",
   "metadata": {},
   "outputs": [
    {
     "name": "stdout",
     "output_type": "stream",
     "text": [
      "The value of celsius is:37.5\n",
      "Conversion of celsius to fehrenheit is : 99.5\n"
     ]
    }
   ],
   "source": [
    "# Python Program to convert temperature in celsius to fahrenheit\n",
    "celsius = float(input(\"The value of celsius is:\"))\n",
    "fehrenheit = (celsius * 1.8) + 32\n",
    "print(\"Conversion of celsius to fehrenheit is :\", fehrenheit)"
   ]
  },
  {
   "cell_type": "code",
   "execution_count": 31,
   "id": "2cc07a79",
   "metadata": {},
   "outputs": [
    {
     "name": "stdout",
     "output_type": "stream",
     "text": [
      "Enter the number: -8\n",
      "the number is negative\n"
     ]
    }
   ],
   "source": [
    "# Python Program to Check if a Number is Positive, Negative or 0\n",
    "num  = float(input(\"Enter the number: \"))\n",
    "if num > 0:\n",
    "    print(\"the number is positive\")\n",
    "elif num == 0:\n",
    "    print(\"the number is Zero\")\n",
    "else:\n",
    "    print(\"the number is negative\")"
   ]
  },
  {
   "cell_type": "code",
   "execution_count": 39,
   "id": "695a02e2",
   "metadata": {},
   "outputs": [
    {
     "name": "stdout",
     "output_type": "stream",
     "text": [
      "Enter a year :1900\n",
      "year is leap year\n"
     ]
    }
   ],
   "source": [
    "# Python Program to Check Leap Year\n",
    "Year = int(input(\"Enter a year :\"))\n",
    "                 \n",
    "if (Year % 4 == 0) and (Year % 100 == 0):\n",
    "    print(\"year is leap year\")\n",
    "elif (Year % 4 == 0) and (Year % 100 != 0):\n",
    "    print(\"year is leap year\")\n",
    "else:\n",
    "    print(\"the year is not leap year\")"
   ]
  },
  {
   "cell_type": "code",
   "execution_count": 40,
   "id": "5f792e21",
   "metadata": {},
   "outputs": [
    {
     "name": "stdout",
     "output_type": "stream",
     "text": [
      "Enter first number:5\n",
      "Enter second number:6\n",
      "Enter third number:7\n",
      "The largest number is:  7.0\n"
     ]
    }
   ],
   "source": [
    "# Python program to find the largest number among the three input numbers\n",
    "num1 = float(input(\"Enter first number:\"))\n",
    "num2 = float(input(\"Enter second number:\"))\n",
    "num3 = float(input(\"Enter third number:\"))\n",
    "\n",
    "if (num1 >= num2) and (num1 >= num3):\n",
    "    largest = num1\n",
    "elif (num2 >= num1) and (num2 >= num3):\n",
    "    largest = num2\n",
    "else:\n",
    "    largest = num3\n",
    "\n",
    "print(\"The largest number is: \", largest)"
   ]
  },
  {
   "cell_type": "code",
   "execution_count": 43,
   "id": "9952fa60",
   "metadata": {},
   "outputs": [
    {
     "name": "stdout",
     "output_type": "stream",
     "text": [
      "Enter the number :12\n",
      "12 is not a prime number\n",
      "2 times 6 is 12\n"
     ]
    }
   ],
   "source": [
    "# Program to check if a number is prime or not\n",
    "num = int(input(\"Enter the number :\"))\n",
    "if num > 1:\n",
    "    for i in range(2,num):\n",
    "        if (num % i) == 0:\n",
    "            print(num, \"is not a prime number\")\n",
    "            print(i,\"times\",num//i,\"is\",num)\n",
    "            break\n",
    "    else:\n",
    "        print(num,\"is prime number\")\n",
    "else:\n",
    "    print(num,\"is not a prime number\")"
   ]
  },
  {
   "cell_type": "code",
   "execution_count": 47,
   "id": "e5cc2f81",
   "metadata": {},
   "outputs": [
    {
     "name": "stdout",
     "output_type": "stream",
     "text": [
      "prime numbers between  2 and 100 are :\n",
      "2\n",
      "3\n",
      "5\n",
      "7\n",
      "11\n",
      "13\n",
      "17\n",
      "19\n",
      "23\n",
      "29\n",
      "31\n",
      "37\n",
      "41\n",
      "43\n",
      "47\n",
      "53\n",
      "59\n",
      "61\n",
      "67\n",
      "71\n",
      "73\n",
      "79\n",
      "83\n",
      "89\n",
      "97\n"
     ]
    }
   ],
   "source": [
    "# Python Program to Print all Prime Numbers in an Interval\n",
    "lower = 2\n",
    "upper = 100\n",
    "\n",
    "print(\"prime numbers between \",lower,\"and\",upper,\"are :\")\n",
    "\n",
    "for num in range(lower,upper + 1):\n",
    "    if num > 1:\n",
    "        for i in range(2,num):\n",
    "            if (num % i) == 0:\n",
    "                break\n",
    "        else:\n",
    "            print(num)\n"
   ]
  },
  {
   "cell_type": "code",
   "execution_count": 54,
   "id": "54ba0220",
   "metadata": {},
   "outputs": [
    {
     "name": "stdout",
     "output_type": "stream",
     "text": [
      "The number is12\n",
      "12 x 1 = 12\n",
      "12 x 2 = 24\n",
      "12 x 3 = 36\n",
      "12 x 4 = 48\n",
      "12 x 5 = 60\n",
      "12 x 6 = 72\n",
      "12 x 7 = 84\n",
      "12 x 8 = 96\n",
      "12 x 9 = 108\n",
      "12 x 10 = 120\n"
     ]
    }
   ],
   "source": [
    "# Python Program to Display the multiplication Table\n",
    "num = int(input(\"The number is\"))\n",
    "\n",
    "for i in range(1, 11):\n",
    "    print(num, \"x\", i, \"=\", num * i)"
   ]
  },
  {
   "cell_type": "code",
   "execution_count": 62,
   "id": "fe91ceae",
   "metadata": {},
   "outputs": [
    {
     "name": "stdout",
     "output_type": "stream",
     "text": [
      "How many terms?8\n",
      "Fibonacci sequence:\n",
      "0\n",
      "1\n",
      "1\n",
      "2\n",
      "3\n",
      "5\n",
      "8\n",
      "13\n"
     ]
    }
   ],
   "source": [
    "# Program to display the Fibonacci sequence up to n-th term\n",
    "nterms = int(input(\"How many terms?\"))\n",
    "\n",
    "n1, n2 = 0, 1\n",
    "count = 0\n",
    "\n",
    "if nterms <=0:\n",
    "    print(\"Please enter the positive number\")\n",
    "elif nterms == 1:\n",
    "    print(\"Fibonacci sequence upto \", nterms,\":\")\n",
    "    print(n1)\n",
    "else:\n",
    "    print(\"Fibonacci sequence:\")\n",
    "    while count < nterms:\n",
    "        print(n1)\n",
    "        nth = n1 + n2\n",
    "        # updated value\n",
    "        n1 = n2\n",
    "        n2 = nth\n",
    "        count += 1"
   ]
  },
  {
   "cell_type": "code",
   "execution_count": 65,
   "id": "52e20f5c",
   "metadata": {},
   "outputs": [
    {
     "name": "stdout",
     "output_type": "stream",
     "text": [
      "Enter the number:307\n",
      "307 is not an Amstrong number\n"
     ]
    }
   ],
   "source": [
    "# Python program to check if the number is an Armstrong number or not\n",
    "num = int(input(\"Enter the number:\"))\n",
    "# initialize the sum\n",
    "sum = 0\n",
    "# find the sum of cube of each digit\n",
    "temp = num\n",
    "while temp > 0:\n",
    "    digit = temp % 10\n",
    "    sum += digit ** 3\n",
    "    temp //= 10\n",
    "    \n",
    "# display the result\n",
    "if num == sum:\n",
    "    print(num,\"is an Amstrong number\")\n",
    "else:\n",
    "    print(num,\"is not an Amstrong number\")"
   ]
  },
  {
   "cell_type": "code",
   "execution_count": 66,
   "id": "ef17a714",
   "metadata": {},
   "outputs": [
    {
     "name": "stdout",
     "output_type": "stream",
     "text": [
      "The sum is  171\n"
     ]
    }
   ],
   "source": [
    "# Python Program to Find the Sum of Natural Numbers\n",
    "num = 18\n",
    "\n",
    "if num < 0:\n",
    "    print(\"Enter the positive number\")\n",
    "else:\n",
    "    sum = 0\n",
    "    while(num > 0):\n",
    "        sum += num\n",
    "        num -= 1\n",
    "    print(\"The sum is \", sum)"
   ]
  },
  {
   "cell_type": "code",
   "execution_count": 68,
   "id": "e0148e45",
   "metadata": {},
   "outputs": [
    {
     "name": "stdout",
     "output_type": "stream",
     "text": [
      "Number divisuible by 13 are [65, 39, 221]\n"
     ]
    }
   ],
   "source": [
    "# Python Program to Find Numbers Divisible by Another Number\n",
    "my_list = [12, 65, 54, 39, 102, 339, 221,]\n",
    "# use anonymous function to filter\n",
    "result = list(filter(lambda x: (x % 13 ==0), my_list))\n",
    "\n",
    "print(\"Number divisuible by 13 are\",result)"
   ]
  },
  {
   "cell_type": "code",
   "execution_count": 71,
   "id": "e8ce4b8e",
   "metadata": {},
   "outputs": [
    {
     "name": "stdout",
     "output_type": "stream",
     "text": [
      "the ASCII value of val is: 112\n"
     ]
    }
   ],
   "source": [
    "# Program to find the ASCII value of the given character\n",
    "val = 'p'\n",
    "print(\"the ASCII value of val is:\",ord(val))\n"
   ]
  },
  {
   "cell_type": "code",
   "execution_count": 74,
   "id": "beab6ed8",
   "metadata": {},
   "outputs": [
    {
     "name": "stdout",
     "output_type": "stream",
     "text": [
      "The H.C.F. is 1\n"
     ]
    }
   ],
   "source": [
    "# Python program to find H.C.F of two numbers\n",
    "def complete_hcf(x, y):\n",
    "\n",
    "# choose the smaller number\n",
    "    if x > y:\n",
    "        smaller = y\n",
    "    else:\n",
    "        smaller = x\n",
    "    for i in range(1, smaller+1):\n",
    "        if((x % i == 0) and (y % i == 0)):\n",
    "            hcf = i\n",
    "        return hcf\n",
    "num1 = 50\n",
    "num2 = 30\n",
    "\n",
    "print(\"The H.C.F. is\", complete_hcf(num1, num2))"
   ]
  },
  {
   "cell_type": "code",
   "execution_count": 76,
   "id": "df518fcf",
   "metadata": {},
   "outputs": [
    {
     "name": "stdout",
     "output_type": "stream",
     "text": [
      "The factors of 320 are:\n",
      "1\n",
      "2\n",
      "4\n",
      "5\n",
      "8\n",
      "10\n",
      "16\n",
      "20\n",
      "32\n",
      "40\n",
      "64\n",
      "80\n",
      "160\n",
      "320\n"
     ]
    }
   ],
   "source": [
    "# Python Program to find the factors of a number\n",
    "def print_factors(x):\n",
    "    print(\"The factors of\",x,\"are:\")\n",
    "    for i in range(1, x + 1):\n",
    "        if x % i == 0:\n",
    "            print(i)\n",
    "num = 320\n",
    "print_factors(num)\n",
    "    "
   ]
  },
  {
   "cell_type": "code",
   "execution_count": 79,
   "id": "d18edf51",
   "metadata": {},
   "outputs": [
    {
     "name": "stdout",
     "output_type": "stream",
     "text": [
      "Fibonacci sequence:\n",
      "0\n",
      "1\n",
      "1\n",
      "2\n",
      "3\n",
      "5\n",
      "8\n",
      "13\n",
      "21\n",
      "34\n"
     ]
    }
   ],
   "source": [
    "# Python program to display the Fibonacci sequence\n",
    "def recur_fibo(n):\n",
    "    if n <= 1:\n",
    "        return n\n",
    "    else:\n",
    "        return(recur_fibo(n-1) + recur_fibo(n-2))\n",
    "    \n",
    "nterms = 10\n",
    "\n",
    "# check if the number of term is valid\n",
    "if nterms <= 0:\n",
    "    print(\"Please entr the positive integer\")\n",
    "else:\n",
    "    print(\"Fibonacci sequence:\")\n",
    "    for i in range(nterms):\n",
    "        print(recur_fibo(i))"
   ]
  },
  {
   "cell_type": "code",
   "execution_count": 80,
   "id": "fafb93e9",
   "metadata": {},
   "outputs": [
    {
     "name": "stdout",
     "output_type": "stream",
     "text": [
      "[17, 15, 67]\n",
      "[10, 12, 11]\n",
      "[11, 23, 12]\n"
     ]
    }
   ],
   "source": [
    "# Program to add two matrices using list comprehension\n",
    "X = [[12,7,66],\n",
    "     [4,5,9],\n",
    "     [7,8,3]]\n",
    "Y = [[5,8,1],\n",
    "     [6,7,2],\n",
    "     [4,15,9]]\n",
    "\n",
    "result = [[X[i][j] + Y[i][j] for j in range(len(X[0]))] for i in range(len(X))]\n",
    "\n",
    "for r in result:\n",
    "    print(r)"
   ]
  },
  {
   "cell_type": "code",
   "execution_count": null,
   "id": "cac06964",
   "metadata": {},
   "outputs": [],
   "source": []
  }
 ],
 "metadata": {
  "kernelspec": {
   "display_name": "Python 3 (ipykernel)",
   "language": "python",
   "name": "python3"
  },
  "language_info": {
   "codemirror_mode": {
    "name": "ipython",
    "version": 3
   },
   "file_extension": ".py",
   "mimetype": "text/x-python",
   "name": "python",
   "nbconvert_exporter": "python",
   "pygments_lexer": "ipython3",
   "version": "3.9.7"
  }
 },
 "nbformat": 4,
 "nbformat_minor": 5
}
